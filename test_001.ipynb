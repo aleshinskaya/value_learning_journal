{
 "cells": [
  {
   "cell_type": "markdown",
   "metadata": {},
   "source": [
    "Run some set-up"
   ]
  },
  {
   "cell_type": "code",
   "execution_count": 26,
   "metadata": {},
   "outputs": [
    {
     "data": {
      "text/plain": [
       "<module 'main' from '/Users/anna/Dropbox/AOI/MoralLearning/CodeSets/value_learning_journal/value_learning_journal/main.py'>"
      ]
     },
     "execution_count": 26,
     "metadata": {},
     "output_type": "execute_result"
    }
   ],
   "source": [
    "import os\n",
    "# path to this codebase and data\n",
    "code_path = '/Users/anna/Dropbox/AOI/MoralLearning/CodeSets/value_learning_journal/value_learning_journal/'\n",
    "data_path = '/Users/anna/Dropbox/AOI/MoralLearning/CodeSets/value_learning_journal/data/'\n",
    "os.chdir(code_path)\n",
    "\n",
    "\n",
    "import main \n",
    "import importlib\n",
    "importlib.reload(main)\n"
   ]
  },
  {
   "cell_type": "markdown",
   "metadata": {},
   "source": [
    "Define Prompts to Test"
   ]
  },
  {
   "cell_type": "code",
   "execution_count": 17,
   "metadata": {},
   "outputs": [],
   "source": [
    "\n",
    "\n",
    "# list of prompts \n",
    "\n",
    "# one step prompts\n",
    "p1 = f\"\"\"You are an expert in using what humans write and say to infer what they value and do not value. \\\n",
    "Below is a journal entry from the user. Among everything the user talks about, identify what items they consider most \\\n",
    "desirable and high value and give them a score from 0 - 100, where 100 is the highest value. Also identify any items they \\\n",
    "consider to be least desirable and low value, and give them a score from 0 - 100, where 0 denotes the lowest value. \\\n",
    "Items with high value are often virtuous, high utility, and bring meaning or fulfillment to them and others. \\\n",
    "Items with low value are immoral, low utility, and bring harm to themselves or others. \\\n",
    "Your task is to identify everything that the user identifies as having either a particularly high value or a particularly low value. \\\n",
    "Please identify at least 10 items. Return a list that includes all these items and their scores on a scale of 0 to 100, where 0 is the \\\n",
    "lowest value and 100 is the highest value. You must respond with a JSON packet with your response: \\\n",
    "1. values - list: \\\n",
    "1. item - <string>: the item \\\n",
    "2. score - <int>: that item's score\"\"\"\n",
    "\n",
    "p2 = f\"\"\"You are an expert in using what humans write and say to infer what they value and don’t value. Given the user’s journal entry, infer their values. Values are things a person finds virtuous and high utility, and which bring meaning or fulfillment to them or others. Return a json with each value and a score for how important it is to the user on a scale of 0 to 100, where 100 denotes the items with the highest value possible. \\\n",
    "1. values -  list: \\\n",
    "1. item - <string>: the item \\\n",
    "2. score - <int>: that item's score\"\"\"\n",
    "\n",
    "p0 = f\"\"\"You are an expert in using what humans write and say to infer what they value and don’t value. Given the user’s journal entry, infer their values.  Return a json with each value and a score for how important it is to the user on a scale of 0 to 100, where 100 denotes the items with the highest value possible.\\\n",
    "1. values -  list:\\\n",
    "1. item - <string>: the item\\\n",
    "2. score - <int>: that item's score\"\"\"\n",
    "\n",
    "\n",
    "p3 = f\"\"\"You are an expert in using what humans write and say to infer what they value and don't value.\n",
    "What are the user's values according to this journal entry? Return a json called \"values\" with each value. 1. values -  list:\"\"\"\n",
    "\n",
    "p4 = f\"\"\"You are an expert in using what humans write and say to infer what they value and don't value. \\\n",
    "Given the user's journal entry, infer their values. Values are things a person finds virtuous and high utility, \\\n",
    "and which bring meaning or fulfillment to them or others. Return a json with an entry called \"values\" with each value. \\\n",
    "1. values -  list:\"\"\"\n",
    "\n",
    "# p5 = f\"\"\"You are an expert in using what humans write and say to infer what they value and don't value. \\\n",
    "#     Given the user's journal entries, infer their values. Values are things a person finds virtuous, \\\n",
    "#     high utility, and brings meaning or fulfillment to the actor and others. Return a json with an entry \\\n",
    "#     called \"values\" with each value. 1. values -  list.\"\"\"\n",
    "    \n",
    "\n",
    "# there are two prompting methods - one step gets all the items and their scores in one step, two step splits them.\n",
    "# prompt text should be organized accordingly\n",
    "\n"
   ]
  },
  {
   "cell_type": "markdown",
   "metadata": {},
   "source": [
    "Test these prompts by running on selected journal entries "
   ]
  },
  {
   "cell_type": "code",
   "execution_count": 36,
   "metadata": {},
   "outputs": [
    {
     "name": "stdout",
     "output_type": "stream",
     "text": [
      "{'values': ['Productivity', 'Achievement', 'Leisure', 'Self-care', 'Supporting Others', 'Introspection', 'Rest']}\n",
      "{'values': ['Productivity', 'Self-care', 'Achievement', 'Leisure', 'Supporting others', 'Introspection', 'Friendship']}\n"
     ]
    }
   ],
   "source": [
    "journal_filename = data_path+'s00_text-e5.txt'\n",
    "\n",
    "main.test_two_step(journal_filename,'user', [p3,p4])\n",
    "# main.test_one_step(journal_filename,'user', [p0,p1,p2])\n"
   ]
  }
 ],
 "metadata": {
  "kernelspec": {
   "display_name": "base",
   "language": "python",
   "name": "python3"
  },
  "language_info": {
   "codemirror_mode": {
    "name": "ipython",
    "version": 3
   },
   "file_extension": ".py",
   "mimetype": "text/x-python",
   "name": "python",
   "nbconvert_exporter": "python",
   "pygments_lexer": "ipython3",
   "version": "3.11.4"
  }
 },
 "nbformat": 4,
 "nbformat_minor": 2
}
